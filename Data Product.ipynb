{
  "nbformat": 4,
  "nbformat_minor": 0,
  "metadata": {
    "colab": {
      "provenance": []
    },
    "kernelspec": {
      "name": "python3",
      "display_name": "Python 3"
    },
    "language_info": {
      "name": "python"
    }
  },
  "cells": [
    {
      "cell_type": "markdown",
      "source": [
        "Our data product (trained and tuned model) can be downloaded [here](https://drive.google.com/file/d/13Ygj3CPy2UgoCcmlQojHwbtqyokCj6LB/view?usp=sharing)."
      ],
      "metadata": {
        "id": "3OzAXCtC0hkv"
      }
    },
    {
      "cell_type": "markdown",
      "source": [
        "Before initiate, few packages are required to install and import."
      ],
      "metadata": {
        "id": "CEsHA78m06N_"
      }
    },
    {
      "cell_type": "code",
      "source": [
        "\n",
        "import pickle\n",
        "import joblib\n",
        "import pandas as pd\n",
        "import numpy as np\n",
        "import matplotlib.pyplot as plt\n",
        "import seaborn as sns"
      ],
      "metadata": {
        "id": "AJd_7qOV1Ph3"
      },
      "execution_count": 11,
      "outputs": []
    },
    {
      "cell_type": "code",
      "execution_count": 15,
      "metadata": {
        "id": "OrszQYQoNWp0"
      },
      "outputs": [],
      "source": [
        "# Load the model from the .pkl file\n",
        "model = joblib.load('/content/sample_data/random_forest_model.pkl')"
      ]
    },
    {
      "cell_type": "markdown",
      "source": [
        "Put value that you want to input.\n",
        "\n",
        "Remember: For 4 Furnishing columns, only 1 column can be true (=1), others will be 0. Applicable to SizeType columns also. For example, if SizeType_Built-up =1, then SizeType_Land Area must be equal to 0"
      ],
      "metadata": {
        "id": "PcYowui46u_c"
      }
    },
    {
      "cell_type": "code",
      "source": [
        "#User input\n",
        "data = [[3   #Rooms\n",
        ",2    #Bathrooms\n",
        ",1    #Car Parks\n",
        ",930  #Size Area\n",
        ",1    #Furnishing_Fully Furnished\n",
        ",0     #Furnishing_Partly Furnished\n",
        ",0     #Furnishing_Unfurnished\n",
        ",0     #Furnishing_Unknown\n",
        ",0     #SizeType_Built-Up\n",
        ",1     #SizeType_Land Area\n",
        "]]\n",
        "\n",
        "\n",
        "column = ['Rooms','Bathrooms','Car Parks','Size Area','Furnishing_Fully Furnished','Furnishing_Partly Furnished','Furnishing_Unfurnished','Furnishing_Unknown','SizeType_Built-Up','SizeType_Land Area']\n",
        "\n"
      ],
      "metadata": {
        "id": "4HtipTOh20Vi"
      },
      "execution_count": 13,
      "outputs": []
    },
    {
      "cell_type": "code",
      "source": [
        "from sklearn.ensemble import RandomForestRegressor\n",
        "\n",
        "predict_price = model.predict(data)\n",
        "\n",
        "print(f\"Predicted House Price: RM{predict_price[0]:,.3f}mil\")"
      ],
      "metadata": {
        "colab": {
          "base_uri": "https://localhost:8080/"
        },
        "id": "aV2emvLh7MLn",
        "outputId": "be3ddf63-6441-49bd-fb8a-1487770bf0c9"
      },
      "execution_count": 20,
      "outputs": [
        {
          "output_type": "stream",
          "name": "stdout",
          "text": [
            "Predicted House Price: RM0.503mil\n"
          ]
        },
        {
          "output_type": "stream",
          "name": "stderr",
          "text": [
            "/usr/local/lib/python3.10/dist-packages/sklearn/utils/validation.py:2739: UserWarning: X does not have valid feature names, but RandomForestRegressor was fitted with feature names\n",
            "  warnings.warn(\n"
          ]
        }
      ]
    }
  ]
}